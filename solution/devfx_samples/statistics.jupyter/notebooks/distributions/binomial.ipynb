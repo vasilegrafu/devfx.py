{
 "cells": [
  {
   "cell_type": "code",
   "execution_count": 1,
   "metadata": {},
   "outputs": [],
   "source": [
    "import os\n",
    "import sys\n",
    "sys.path.append(os.getcwd() + \"\\\\..\\\\..\\\\..\\\\..\\\\\")\n",
    "\n",
    "import warnings\n",
    "warnings.filterwarnings('ignore')\n",
    "\n",
    "import ipywidgets as iwidgets\n",
    "\n",
    "import devfx.statistics as stats\n",
    "import devfx.data_vizualization.seaborn as dv"
   ]
  },
  {
   "cell_type": "markdown",
   "metadata": {},
   "source": [
    "In general, if the random variable X follows the binomial distribution with parameters n ∈ ℕ and p ∈ [0,1], we write X ~ B(n, p).<br/>\n",
    "The probability of getting exactly x successes in n trials is given by the probability mass function:<br/>\n",
    "<br/>\n",
    "$f(x;n,p)=P(X=x)=\\binom{n}{x} \\cdot p^x(1-p)^{n-x}$ &nbsp; where &nbsp; $\\binom{n}{x} = \\frac{n!}{x!(n-x)!}$</div>"
   ]
  },
  {
   "cell_type": "code",
   "execution_count": 2,
   "metadata": {},
   "outputs": [
    {
     "data": {
      "application/vnd.jupyter.widget-view+json": {
       "model_id": "8000f203c7534785b1677e1f63dc6c43",
       "version_major": 2,
       "version_minor": 0
      },
      "text/plain": [
       "interactive(children=(IntSlider(value=40, description='n', max=64, min=16), FloatSlider(value=0.48, descriptio…"
      ]
     },
     "metadata": {},
     "output_type": "display_data"
    }
   ],
   "source": [
    "def binomial(n, p):\n",
    "    figure = dv.Figure(size=(10, 2.5), grid=(1, 2))\n",
    "    \n",
    "    binomial = stats.distributions.binomial(n, p)\n",
    "    \n",
    "    chart = dv.Chart2d(figure=figure, position=figure[0,0], xlim=(0, n))\n",
    "    stats.estimators.dhistogram.from_distribution(binomial, ll=0, ul=n, bin_count=n).on_chart(chart).bar()\n",
    "    \n",
    "    chart = dv.Chart2d(figure=figure, position=figure[0,1], xlim=(0, n))\n",
    "    stats.estimators.cdhistogram.from_distribution(binomial, ll=0, ul=n, bin_count=n).on_chart(chart).bar()\n",
    "\n",
    "    figure.show()\n",
    "    \n",
    "slider = iwidgets.interactive(binomial, n=(16, 64, 1), p=(0.04, 0.96, 0.04))\n",
    "display(slider)"
   ]
  },
  {
   "cell_type": "code",
   "execution_count": null,
   "metadata": {},
   "outputs": [],
   "source": []
  },
  {
   "cell_type": "code",
   "execution_count": null,
   "metadata": {},
   "outputs": [],
   "source": []
  }
 ],
 "metadata": {
  "anaconda-cloud": {},
  "kernelspec": {
   "display_name": "Python 3",
   "language": "python",
   "name": "python3"
  },
  "language_info": {
   "codemirror_mode": {
    "name": "ipython",
    "version": 3
   },
   "file_extension": ".py",
   "mimetype": "text/x-python",
   "name": "python",
   "nbconvert_exporter": "python",
   "pygments_lexer": "ipython3",
   "version": "3.6.6"
  },
  "widgets": {
   "state": {
    "e77baece61f14eebbec2fefc31b0657e": {
     "views": [
      {
       "cell_index": 2
      }
     ]
    }
   },
   "version": "1.2.0"
  }
 },
 "nbformat": 4,
 "nbformat_minor": 1
}
